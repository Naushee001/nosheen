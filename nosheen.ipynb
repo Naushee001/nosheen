{
 "cells": [
  {
   "cell_type": "code",
   "execution_count": 1,
   "id": "0d69f800",
   "metadata": {},
   "outputs": [],
   "source": [
    "import numpy as np\n",
    "import matplotlib.pyplot as plt"
   ]
  },
  {
   "cell_type": "code",
   "execution_count": 2,
   "id": "5bcb3b93",
   "metadata": {},
   "outputs": [],
   "source": [
    "a1 = np.array([56,89,90,100])"
   ]
  },
  {
   "cell_type": "code",
   "execution_count": 3,
   "id": "a4d890c7",
   "metadata": {},
   "outputs": [
    {
     "data": {
      "text/plain": [
       "array([336, 534, 540, 600])"
      ]
     },
     "execution_count": 3,
     "metadata": {},
     "output_type": "execute_result"
    }
   ],
   "source": [
    "a1*6"
   ]
  },
  {
   "cell_type": "code",
   "execution_count": 4,
   "id": "4ae60f62",
   "metadata": {},
   "outputs": [],
   "source": [
    "a2 = np.zeros(17)"
   ]
  },
  {
   "cell_type": "code",
   "execution_count": 5,
   "id": "f03504a6",
   "metadata": {},
   "outputs": [
    {
     "data": {
      "text/plain": [
       "array([0., 0., 0., 0., 0., 0., 0., 0., 0., 0., 0., 0., 0., 0., 0., 0., 0.])"
      ]
     },
     "execution_count": 5,
     "metadata": {},
     "output_type": "execute_result"
    }
   ],
   "source": [
    "a2"
   ]
  },
  {
   "cell_type": "code",
   "execution_count": 6,
   "id": "74ef7024",
   "metadata": {},
   "outputs": [],
   "source": [
    "x = np.linspace(6,-9,8)\n",
    "y = x**5"
   ]
  },
  {
   "cell_type": "code",
   "execution_count": 7,
   "id": "b2ce1e71",
   "metadata": {},
   "outputs": [
    {
     "data": {
      "text/plain": [
       "array([ 6.        ,  3.85714286,  1.71428571, -0.42857143, -2.57142857,\n",
       "       -4.71428571, -6.85714286, -9.        ])"
      ]
     },
     "execution_count": 7,
     "metadata": {},
     "output_type": "execute_result"
    }
   ],
   "source": [
    "x"
   ]
  },
  {
   "cell_type": "code",
   "execution_count": 8,
   "id": "acbbf3d6",
   "metadata": {},
   "outputs": [
    {
     "data": {
      "text/plain": [
       "Text(0, 0.5, 'fatima')"
      ]
     },
     "execution_count": 8,
     "metadata": {},
     "output_type": "execute_result"
    },
    {
     "data": {
      "image/png": "[encoded data removed]",
      "text/plain": [
       "<Figure size 432x288 with 1 Axes>"
      ]
     },
     "metadata": {
      "needs_background": "light"
     },
     "output_type": "display_data"
    }
   ],
   "source": [
    "plt.plot(x,y)\n",
    "plt.grid()\n",
    "plt.xlabel('nosheen',fontsize=20)\n",
    "plt.ylabel('fatima',fontsize=20)"
   ]
  },
  {
   "cell_type": "code",
   "execution_count": 9,
   "id": "6b3838e7",
   "metadata": {},
   "outputs": [],
   "source": [
    "x1 = np.arange(6,9,1)"
   ]
  },
  {
   "cell_type": "code",
   "execution_count": 10,
   "id": "41b94c80",
   "metadata": {},
   "outputs": [
    {
     "data": {
      "text/plain": [
       "array([6, 7, 8])"
      ]
     },
     "execution_count": 10,
     "metadata": {},
     "output_type": "execute_result"
    }
   ],
   "source": [
    "x1[:6]"
   ]
  },
  {
   "cell_type": "code",
   "execution_count": 1,
   "id": "55e8061f",
   "metadata": {},
   "outputs": [
    {
     "data": {
      "text/plain": [
       "range(0, 9)"
      ]
     },
     "execution_count": 1,
     "metadata": {},
     "output_type": "execute_result"
    }
   ],
   "source": [
    "a = 9\n",
    "range(9)"
   ]
  },
  {
   "cell_type": "code",
   "execution_count": 2,
   "id": "eb238c4c",
   "metadata": {},
   "outputs": [
    {
     "name": "stdout",
     "output_type": "stream",
     "text": [
      "0\n",
      "1\n",
      "2\n",
      "3\n",
      "4\n",
      "5\n",
      "6\n",
      "7\n",
      "8\n"
     ]
    }
   ],
   "source": [
    "for i in range (a):\n",
    "    print(i)"
   ]
  },
  {
   "cell_type": "code",
   "execution_count": 3,
   "id": "54fd2093",
   "metadata": {},
   "outputs": [],
   "source": [
    "Ist = ['nosheen','fatima','mirza']"
   ]
  },
  {
   "cell_type": "code",
   "execution_count": 4,
   "id": "dabb8482",
   "metadata": {},
   "outputs": [
    {
     "name": "stdout",
     "output_type": "stream",
     "text": [
      "nosheen\n",
      "fatima\n",
      "mirza\n"
     ]
    }
   ],
   "source": [
    "for i in Ist:\n",
    "    print(i)"
   ]
  },
  {
   "cell_type": "code",
   "execution_count": null,
   "id": "3c60f5df",
   "metadata": {},
   "outputs": [],
   "source": []
  }
 ],
 "metadata": {
  "kernelspec": {
   "display_name": "Python 3 (ipykernel)",
   "language": "python",
   "name": "python3"
  },
  "language_info": {
   "codemirror_mode": {
    "name": "ipython",
    "version": 3
   },
   "file_extension": ".py",
   "mimetype": "text/x-python",
   "name": "python",
   "nbconvert_exporter": "python",
   "pygments_lexer": "ipython3",
   "version": "3.9.7"
  }
 },
 "nbformat": 4,
 "nbformat_minor": 5
}
